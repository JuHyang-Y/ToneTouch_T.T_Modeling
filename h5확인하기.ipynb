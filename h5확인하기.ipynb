{
 "cells": [
  {
   "cell_type": "code",
   "execution_count": 9,
   "id": "97323764-0d88-4ce1-8351-1d7f5ee61783",
   "metadata": {},
   "outputs": [
    {
     "name": "stdout",
     "output_type": "stream",
     "text": [
      "1/1 [==============================] - 0s 84ms/step\n"
     ]
    },
    {
     "data": {
      "text/plain": [
       "array([[5.6770646e-09, 1.0230017e-08, 4.4849574e-07, 4.1601670e-06,\n",
       "        1.1596500e-09, 9.5097340e-07, 1.0667290e-10, 3.6790184e-09,\n",
       "        9.9999440e-01, 5.0498471e-08]], dtype=float32)"
      ]
     },
     "execution_count": 9,
     "metadata": {},
     "output_type": "execute_result"
    }
   ],
   "source": [
    "import tensorflow as tf\n",
    "from tensorflow.keras.models import load_model\n",
    "from tensorflow.keras.preprocessing.image import load_img, img_to_array\n",
    "\n",
    "# 모델 불러오기\n",
    "model = tf.keras.models.load_model('model.h5')\n",
    "\n",
    "img_path = '/home/jovyan/mel/100263-2-0-117.png'\n",
    "img = load_img(img_path, target_size=(1000, 400))  # 이미지 로드 및 크기 조정\n",
    "img_array = img_to_array(img) / 255.0\n",
    "\n",
    "img_array = tf.expand_dims(img_array, axis=0)\n",
    "\n",
    "predict = model.predict(img_array)\n",
    "predict"
   ]
  },
  {
   "cell_type": "code",
   "execution_count": null,
   "id": "1e445545-668b-4f8b-91bd-4ddb6082a46c",
   "metadata": {},
   "outputs": [],
   "source": []
  }
 ],
 "metadata": {
  "kernelspec": {
   "display_name": "Python 3 (ipykernel)",
   "language": "python",
   "name": "python3"
  },
  "language_info": {
   "codemirror_mode": {
    "name": "ipython",
    "version": 3
   },
   "file_extension": ".py",
   "mimetype": "text/x-python",
   "name": "python",
   "nbconvert_exporter": "python",
   "pygments_lexer": "ipython3",
   "version": "3.10.13"
  }
 },
 "nbformat": 4,
 "nbformat_minor": 5
}
